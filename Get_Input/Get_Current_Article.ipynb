{
 "cells": [
  {
   "cell_type": "code",
   "execution_count": 4,
   "id": "eab03b3a",
   "metadata": {},
   "outputs": [
    {
     "name": "stdout",
     "output_type": "stream",
     "text": [
      "New Delhi, India CNN —\n",
      "Cheers greeted a group of 41 workers as they emerged from a collapsed tunnel under the Himalayas on Tuesday, the climax of an incredible and perilous weekslong rescue operation to drill through rock and debris.\n",
      "The men had been trapped for 17 days as recovery teams drilled an escape route through the mountain - with many setbacks as they encountered technical problems - before the last few meters were drilled by hand.\n",
      "Workers who had been stuck in the Silkyara tunnel since November 12 started to be rescued on Tuesday. Francis Mascarenhas/Reuters\n",
      "Video footage from the scene showed Pushkar Singh Dhami, chief minister of Uttarakhand state meeting the workers, as they emerged from the tunnel amid jubilant scenes.\n",
      "All 41 of the workers seem to be healthy, Dhami confirmed at a press conference on Tuesday night local time.\n",
      "“Since they have come out of a very different environment, we will follow the advice of the doctor. They will be monitored first. No one is critical,” Dhami said.\n",
      "“None of their symptoms are of weakness or fever, they are all healthy. While there were stretchers for them to come out, they chose to come out crawling on their own,” he said, before thanking the workers, engineers, and government departments that helped coordinate the rescue mission.\n",
      "A father greets his son who was trapped inside the tunnel for 17 days. Uttarakhand government\n",
      "Uttarakhand's Chief Minister Rushkar Singh Dhami embraces one of the rescued laborers. Uttarakhand government\n",
      "The rescued workers will each be given checks worth 100,000 rupees (about $1,200), Dhami said.\n",
      "“We will also ask the company that these 41 workers be allowed to go home and spend time with their family for 15 days, 20 days, or 1 month,” Dhami said.\n",
      "Indian Prime Minister Narendra Modi said the successful rescue “is making everyone emotional,” in a statement on X.\n",
      "“I want to tell the men who were trapped in the tunnel that your bravery and patience are inspiring everyone,” he wrote.\n",
      "“I also salute the spirit of all the people associated with this rescue operation. Their bravery and determination have granted a new life to our labourer brothers. Everyone involved in this mission has set an amazing example of humanity and teamwork,” added Modi.\n",
      "The men had been trapped since November 12 when the part of tunnel they were helping to construct in India’s northern Uttarakhand state gave way, blocking their only exit with more than 60 meters (200 feet) of broken rock, concrete and twisted metal.\n",
      "Rescue personnel pictured at the entrance to the tunnel. Sajjad Hussain/AFP/Getty Images\n",
      "The first workers were removed following a series of agonizing setbacks, during which rescue efforts were halted when the heavy machinery used to drill through the debris broke down, forcing workers to partially dig by hand and adopt other riskier methods to bring them to safety.\n",
      "Engineers first used a drill to break through the debris, but were forced to abandon efforts late on Friday after the powerful US-made machine broke down just meters from the trapped men, forcing them to dig by hand.\n",
      "Rescuers were also simultaneously drilling downward through the unstable mountain terrain as a back up way to reach the trapped men. But in the end the initial plan proved successful.\n",
      "With the drilling completed, rescuers then pushed a large pipe through the last part of the exit shaft for the men to be brought to safety.\n",
      "Ambulances wait in line near the operation to free the trapped workers in Uttarakhand, India, November 28, 2023. Francis Mascarenhas/Reuters\n",
      "The laborers – all migrant workers from some of India’s poorest states – have been receiving food, water and oxygen through a 53-meter (173 foot) pipe that has been inserted through the debris and authorities say they remain in good health.\n",
      "Doctors on site have kept in regular contact with the men inside, giving them tips on how to remain positive and calm. Their families have been gathering at the tunnel exit each day to pray for their safe return.\n",
      "The tunnel is part of Modi’s Char Dham Highway route, a controversial multimillion dollar project to upgrade. the country’s transport network and improve connectivity to important Hindu pilgrimage sites in the region.\n",
      "The project has received criticism from environmentalists who say the heavy construction could seriously damage the Himalayan region, where millions are already feeling the impact of the climate crisis.\n",
      "A panel of experts told India’s Supreme Court that construction of the highways will “lead to further landslides and soil erosion in an already sensitive environment,” according to a 2020 report by the court.\n",
      "Authorities are investigating the cause of the tunnel collapse and are likely to examine the role of drilling on the mountain. CNN has contacted the Ministry of Environment, Forest and Climate Change of India.\n",
      "The tunnel’s collapse is one of several recent construction disasters to make headlines in India, a country that has been rapidly transforming its infrastructure and spending billions to upgrade its transport network.\n",
      "In August, more than a dozen workers were killed after a bridge under construction collapsed in the northeastern state of Mizoram. In June, a four-lane concrete bridge that was being built across the River Ganges in the eastern state of Bihar collapsed for the second time in just over a year, raising questions about the quality of its construction.\n",
      "This story has been updated with additional developments.\n"
     ]
    }
   ],
   "source": [
    "from newsplease import NewsPlease\n",
    "import json\n",
    "\n",
    "article = NewsPlease.from_url('https://www.cnn.com/2023/11/28/india/india-tunnel-rescue-vertical-drilling-intl-hnk/index.html')\n",
    "print(article.maintext)\n",
    "with open('input_article.json', 'w') as outfile:\n",
    "    json.dump(article.maintext, outfile, indent = 4)"
   ]
  },
  {
   "cell_type": "code",
   "execution_count": null,
   "id": "0f8b1c1c",
   "metadata": {},
   "outputs": [],
   "source": []
  }
 ],
 "metadata": {
  "kernelspec": {
   "display_name": "Python 3 (ipykernel)",
   "language": "python",
   "name": "python3"
  },
  "language_info": {
   "codemirror_mode": {
    "name": "ipython",
    "version": 3
   },
   "file_extension": ".py",
   "mimetype": "text/x-python",
   "name": "python",
   "nbconvert_exporter": "python",
   "pygments_lexer": "ipython3",
   "version": "3.9.13"
  }
 },
 "nbformat": 4,
 "nbformat_minor": 5
}
