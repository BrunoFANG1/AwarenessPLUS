{
 "cells": [
  {
   "cell_type": "code",
   "execution_count": 22,
   "id": "370b90dc",
   "metadata": {},
   "outputs": [],
   "source": [
    "from datetime import datetime, timedelta\n",
    "\n",
    "# News in now-timespan will be kept in database \n",
    "now = datetime.now()\n",
    "timespan = timedelta(days=30)"
   ]
  },
  {
   "cell_type": "code",
   "execution_count": 19,
   "id": "93a9a984",
   "metadata": {},
   "outputs": [],
   "source": [
    "# newsapi.ai key: 0215dfd8-3e70-4f43-868f-6991882ac84f\n",
    "# 100 items = 1 token, 2000 total tokens per month\n",
    "from eventregistry import *\n",
    "\n",
    "er = EventRegistry(apiKey = '0215dfd8-3e70-4f43-868f-6991882ac84f')\n",
    "query = {\n",
    "    \"$query\": {\n",
    "        \"$and\": [\n",
    "            {\n",
    "                \"categoryUri\": \"news/Politics\"\n",
    "            },\n",
    "            {\n",
    "                \"dateStart\": \"2023-11-19\",\n",
    "                \"dateEnd\": \"2023-11-26\",\n",
    "#                 \"dateStart\": f\"{(now.date()-timedelta(days=1)).strftime(\"%Y-%m-%d\")}\",\n",
    "#                 \"dateEnd\": f\"{now.date().strftime(\"%Y-%m-%d\")}\",\n",
    "                \"lang\": \"eng\"\n",
    "            }\n",
    "        ]\n",
    "    },\n",
    "    \"$filter\": {\n",
    "        \"startSourceRankPercentile\": 0,\n",
    "        \"endSourceRankPercentile\": 10\n",
    "    }\n",
    "}\n",
    "q = QueryArticlesIter.initWithComplexQuery(query)\n",
    "# change maxItems to get the number of results that you want\n",
    "articles = []\n",
    "for article in q.execQuery(er, maxItems=10000):\n",
    "    articles.append(article)"
   ]
  },
  {
   "cell_type": "code",
   "execution_count": 23,
   "id": "9e9e1efe",
   "metadata": {},
   "outputs": [],
   "source": [
    "import json\n",
    "\n",
    "with open('news_database_dict.json', 'r') as dict_json_file:\n",
    "    news_database_dict = json.load(dict_json_file)\n",
    "with open('news_database.json', 'r') as data_json_file:\n",
    "    news_database = json.load(data_json_file)\n",
    "for a in articles:\n",
    "    if a['title'] not in news_database_dict.keys():\n",
    "        news_database_dict[a['title']] = [a['date'], a['title'], a['source'], a['url'], a['body']]\n",
    "        news_database.append({'date':a['date'], \n",
    "                              'title':a['title'], \n",
    "                              'source_url':a['source']['uri'], \n",
    "                              'source_name':a['source']['title'], \n",
    "                              'url':a['url'], \n",
    "                              'body':a['body']})\n",
    "for key in news_database_dict: # Remove old news\n",
    "    if datetime.strptime(news_database_dict[key][0], '%Y-%m-%d') < now - timespan: \n",
    "        news_database[:] = [e for e in news_database if e['title'] != key]\n",
    "        del news_database_dict[key]\n",
    "with open('news_database_dict.json', 'w') as out_dict:\n",
    "    json.dumps(news_database_dict, out_dict, indent=4)\n",
    "with open('news_database.json', 'w') as outfile:\n",
    "    json.dumps(news_database, outfile, indent=4)\n"
   ]
  }
 ],
 "metadata": {
  "kernelspec": {
   "display_name": "Python 3 (ipykernel)",
   "language": "python",
   "name": "python3"
  },
  "language_info": {
   "codemirror_mode": {
    "name": "ipython",
    "version": 3
   },
   "file_extension": ".py",
   "mimetype": "text/x-python",
   "name": "python",
   "nbconvert_exporter": "python",
   "pygments_lexer": "ipython3",
   "version": "3.9.13"
  }
 },
 "nbformat": 4,
 "nbformat_minor": 5
}
