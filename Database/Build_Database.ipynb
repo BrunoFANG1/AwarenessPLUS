{
 "cells": [
  {
   "cell_type": "code",
   "execution_count": 6,
   "id": "370b90dc",
   "metadata": {},
   "outputs": [],
   "source": [
    "from datetime import timedelta\n",
    "from datetime import datetime as dt\n",
    "\n",
    "# News in now-timespan will be kept in database \n",
    "now = dt.now()\n",
    "timespan = timedelta(days=30)"
   ]
  },
  {
   "cell_type": "code",
   "execution_count": 12,
   "id": "93a9a984",
   "metadata": {},
   "outputs": [
    {
     "ename": "SyntaxError",
     "evalue": "f-string: unmatched '(' (269209578.py, line 23)",
     "output_type": "error",
     "traceback": [
      "\u001b[1;36m  File \u001b[1;32m\"C:\\Users\\Shaobo Liang\\AppData\\Local\\Temp\\ipykernel_29888\\269209578.py\"\u001b[1;36m, line \u001b[1;32m23\u001b[0m\n\u001b[1;33m    \"dateStart\": f\"{start_date.strftime(\"%Y-%m-%d\")}\",\u001b[0m\n\u001b[1;37m                                         ^\u001b[0m\n\u001b[1;31mSyntaxError\u001b[0m\u001b[1;31m:\u001b[0m f-string: unmatched '('\n"
     ]
    }
   ],
   "source": [
    "# newsapi.ai key: 0215dfd8-3e70-4f43-868f-6991882ac84f\n",
    "# 100 items = 1 token, 2000 total tokens per month\n",
    "from eventregistry import *\n",
    "from tqdm import tqdm\n",
    "\n",
    "start_date = now.date()-timedelta(days=1)\n",
    "end_date = now.date()-timedelta(days=1)\n",
    "num_articles = 100\n",
    "source_percentile = 10  # Top percentage according to Alexa source ranking\n",
    "\n",
    "print(f'Database timespan: past {timespan} days')\n",
    "\n",
    "er = EventRegistry(apiKey = '0215dfd8-3e70-4f43-868f-6991882ac84f')\n",
    "query = {\n",
    "    \"$query\": {\n",
    "        \"$and\": [\n",
    "            {\n",
    "                \"categoryUri\": \"news/Politics\"\n",
    "            },\n",
    "            {\n",
    "#                 \"dateStart\": \"2023-11-19\",\n",
    "#                 \"dateEnd\": \"2023-11-26\",\n",
    "                \"dateStart\": f\"{start_date.strftime('%Y-%m-%d')}\",\n",
    "                \"dateEnd\": f\"{end_date.strftime('%Y-%m-%d')}\",\n",
    "                \"lang\": \"eng\"\n",
    "            }\n",
    "        ]\n",
    "    },\n",
    "    \"$filter\": {\n",
    "        \"startSourceRankPercentile\": 0,\n",
    "        \"endSourceRankPercentile\": source_percentile,\n",
    "        \"isDuplicate\": \"skipDuplicates\"\n",
    "    }\n",
    "}\n",
    "q = QueryArticlesIter.initWithComplexQuery(query)\n",
    "# change maxItems to get the number of results that you want\n",
    "articles = []\n",
    "print(f'Downloading {num_articles} articles from {start_date} to {end_date}:')\n",
    "for article in tqdm(q.execQuery(er, maxItems=num_articles)):\n",
    "    articles.append(article)"
   ]
  },
  {
   "cell_type": "code",
   "execution_count": 11,
   "id": "9e9e1efe",
   "metadata": {
    "scrolled": false
   },
   "outputs": [
    {
     "name": "stdout",
     "output_type": "stream",
     "text": [
      "Saving articles to database:\n",
      "0 new articles added.\n",
      "0 outdated articles removed.\n"
     ]
    }
   ],
   "source": [
    "import json\n",
    "\n",
    "remove_count = 0\n",
    "add_count = 0\n",
    "print(f'Saving articles to database:')\n",
    "with open('news_database_dict.json', 'r') as dict_json_file:\n",
    "    news_database_dict = json.load(dict_json_file)\n",
    "with open('news_database.json', 'r') as data_json_file:\n",
    "    news_database = json.load(data_json_file)\n",
    "for a in articles:\n",
    "    if a['title'] not in news_database_dict.keys():\n",
    "        news_database_dict[a['title']] = [a['date'], a['title'], a['source'], a['url'], a['body'], a['image']]\n",
    "        news_database.append({'date':a['date'], \n",
    "                              'title':a['title'], \n",
    "                              'source_url':a['source']['uri'], \n",
    "                              'source_name':a['source']['title'], \n",
    "                              'url':a['url'], \n",
    "                              'body':a['body'], \n",
    "                              'image_url':a['image']})\n",
    "        add_count += 1\n",
    "print(f'{add_count} new articles added.')\n",
    "for key in news_database_dict: # Remove old news\n",
    "    if dt.strptime(news_database_dict[key][0], '%Y-%m-%d') < now - timespan: \n",
    "        news_database[:] = [e for e in news_database if e['title'] != key]\n",
    "        del news_database_dict[key]\n",
    "        remove_count += 1\n",
    "print(f'{remove_count} outdated articles removed.')\n",
    "with open('news_database_dict.json', 'w') as out_dict:\n",
    "    json.dump(news_database_dict, out_dict, indent=4)\n",
    "with open('news_database.json', 'w') as outfile:\n",
    "    json.dump(news_database, outfile, indent=4)\n"
   ]
  },
  {
   "cell_type": "code",
   "execution_count": null,
   "id": "feae3223",
   "metadata": {},
   "outputs": [],
   "source": []
  }
 ],
 "metadata": {
  "kernelspec": {
   "display_name": "Python 3 (ipykernel)",
   "language": "python",
   "name": "python3"
  },
  "language_info": {
   "codemirror_mode": {
    "name": "ipython",
    "version": 3
   },
   "file_extension": ".py",
   "mimetype": "text/x-python",
   "name": "python",
   "nbconvert_exporter": "python",
   "pygments_lexer": "ipython3",
   "version": "3.9.13"
  }
 },
 "nbformat": 4,
 "nbformat_minor": 5
}
