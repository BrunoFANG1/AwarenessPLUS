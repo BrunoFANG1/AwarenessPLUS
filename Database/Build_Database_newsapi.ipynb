{
 "cells": [
  {
   "cell_type": "code",
   "execution_count": 22,
   "id": "370b90dc",
   "metadata": {},
   "outputs": [],
   "source": [
    "from datetime import datetime, timedelta\n",
    "\n",
    "# News in now-timespan will be kept in database \n",
    "now = datetime.now()\n",
    "timespan = timedelta(days=30)"
   ]
  },
  {
   "cell_type": "code",
   "execution_count": 19,
   "id": "93a9a984",
   "metadata": {},
   "outputs": [],
   "source": [
    "# newsapi.ai key: 0215dfd8-3e70-4f43-868f-6991882ac84f\n",
    "# 100 items = 1 token, 2000 total tokens per month\n",
    "from eventregistry import *\n",
    "\n",
    "er = EventRegistry(apiKey = '0215dfd8-3e70-4f43-868f-6991882ac84f')\n",
    "query = {\n",
    "    \"$query\": {\n",
    "        \"$and\": [\n",
    "            {\n",
    "                \"categoryUri\": \"news/Politics\"\n",
    "            },\n",
    "            {\n",
    "                \"dateStart\": \"2023-11-19\",\n",
    "                \"dateEnd\": \"2023-11-26\",\n",
    "#                 \"dateStart\": f\"{(now.date()-timedelta(days=1)).strftime(\"%Y-%m-%d\")}\",\n",
    "#                 \"dateEnd\": f\"{now.date().strftime(\"%Y-%m-%d\")}\",\n",
    "                \"lang\": \"eng\"\n",
    "            }\n",
    "        ]\n",
    "    },\n",
    "    \"$filter\": {\n",
    "        \"startSourceRankPercentile\": 0,\n",
    "        \"endSourceRankPercentile\": 10\n",
    "    }\n",
    "}\n",
    "q = QueryArticlesIter.initWithComplexQuery(query)\n",
    "# change maxItems to get the number of results that you want\n",
    "articles = []\n",
    "for article in q.execQuery(er, maxItems=10000):\n",
    "    articles.append(article)"
   ]
  },
  {
   "cell_type": "code",
   "execution_count": 23,
   "id": "9e9e1efe",
   "metadata": {},
   "outputs": [],
   "source": [
    "import json\n",
    "\n",
    "with open('news_database.json', 'r') as json_file:\n",
    "    news_database = json.load(json_file)\n",
    "for a in articles:\n",
    "    if a['title'] not in news_database.keys():\n",
    "        news_database[a['title']] = [a['date'], a['title'], a['source'], a['url'], a['body']]\n",
    "for key in news_database: # Remove old news\n",
    "    if datetime.strptime(news_database[key][0], '%Y-%m-%d') < now - timespan: \n",
    "        del news_database[key]\n",
    "out_json = json.dumps(news_database, indent=4)\n",
    "with open('news_database.json', 'w') as outfile:\n",
    "    outfile.write(out_json)"
   ]
  }
 ],
 "metadata": {
  "kernelspec": {
   "display_name": "Python 3 (ipykernel)",
   "language": "python",
   "name": "python3"
  },
  "language_info": {
   "codemirror_mode": {
    "name": "ipython",
    "version": 3
   },
   "file_extension": ".py",
   "mimetype": "text/x-python",
   "name": "python",
   "nbconvert_exporter": "python",
   "pygments_lexer": "ipython3",
   "version": "3.9.13"
  }
 },
 "nbformat": 4,
 "nbformat_minor": 5
}
