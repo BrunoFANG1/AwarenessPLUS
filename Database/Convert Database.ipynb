{
 "cells": [
  {
   "cell_type": "code",
   "execution_count": 16,
   "id": "a3d50526",
   "metadata": {},
   "outputs": [],
   "source": [
    "import json \n",
    "\n",
    "with open('news_database_dict.json', 'r') as json_file:\n",
    "    news_database = json.load(json_file)\n",
    "\n",
    "out_list = []\n",
    "\n",
    "for key in news_database:\n",
    "    out_list.append({'date':news_database[key][0], \n",
    "                     'title':news_database[key][1], \n",
    "                     'source_url':news_database[key][2]['uri'], \n",
    "                     'source_name':news_database[key][2]['title'], \n",
    "                     'url':news_database[key][3], \n",
    "                     'body':news_database[key][4]})\n",
    "\n",
    "with open('test.json', 'x') as json_file:\n",
    "    json.dump(out_list, json_file, indent=4)\n"
   ]
  }
 ],
 "metadata": {
  "kernelspec": {
   "display_name": "Python 3 (ipykernel)",
   "language": "python",
   "name": "python3"
  },
  "language_info": {
   "codemirror_mode": {
    "name": "ipython",
    "version": 3
   },
   "file_extension": ".py",
   "mimetype": "text/x-python",
   "name": "python",
   "nbconvert_exporter": "python",
   "pygments_lexer": "ipython3",
   "version": "3.9.13"
  }
 },
 "nbformat": 4,
 "nbformat_minor": 5
}
